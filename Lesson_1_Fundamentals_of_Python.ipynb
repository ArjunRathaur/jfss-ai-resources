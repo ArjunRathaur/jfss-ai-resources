{
  "nbformat": 4,
  "nbformat_minor": 0,
  "metadata": {
    "colab": {
      "name": "Lesson 1 - Fundamentals of Python.ipynb",
      "provenance": [],
      "collapsed_sections": []
    },
    "kernelspec": {
      "name": "python3",
      "display_name": "Python 3"
    }
  },
  "cells": [
    {
      "cell_type": "markdown",
      "metadata": {
        "id": "KaKQO8Yct2Bf",
        "colab_type": "text"
      },
      "source": [
        "# Fundamentals of Python\n",
        "Understanding python is the key to being able to create your own neural networks from scratch. For the first few weeks we will focus on solidifying the basic concepts of python. The key concepts we will cover will in this lesson include the following:\n",
        "\n",
        "## Key Concepts\n",
        "- Data Types\n",
        "- Basic python operations\n",
        "- Variables\n",
        "- Flow Control\n",
        "\n",
        "**Many of these concepts can be found in \"Al Sweigart's Automate the Boring Stuff with Python\"**  \n",
        "https://automatetheboringstuff.com/\n"
      ]
    },
    {
      "cell_type": "markdown",
      "metadata": {
        "id": "Bd2Y5I_ftj5E",
        "colab_type": "text"
      },
      "source": [
        "# Python Basics"
      ]
    },
    {
      "cell_type": "code",
      "metadata": {
        "id": "1pT7CqWXw1MT",
        "colab_type": "code",
        "colab": {}
      },
      "source": [
        "2+2"
      ],
      "execution_count": 0,
      "outputs": []
    },
    {
      "cell_type": "markdown",
      "metadata": {
        "id": "BF-vKIh-u91x",
        "colab_type": "text"
      },
      "source": [
        "This statement is an *expression*, which is one of the most basic kinds of programming instructions in Python. Expressions must contain *values* (like 2) & *operators* (like +). They can always **evaluate** down to a single value."
      ]
    },
    {
      "cell_type": "code",
      "metadata": {
        "id": "-wVXgLZitmwT",
        "colab_type": "code",
        "colab": {}
      },
      "source": [
        "2"
      ],
      "execution_count": 0,
      "outputs": []
    },
    {
      "cell_type": "markdown",
      "metadata": {
        "id": "fmqxzuHPw0zq",
        "colab_type": "text"
      },
      "source": [
        "## Operations"
      ]
    },
    {
      "cell_type": "markdown",
      "metadata": {
        "id": "PxmHnN5Hvn05",
        "colab_type": "text"
      },
      "source": [
        "| Operator | Operation   |Example| Evaluates to|\n",
        "|------|------|------| -----|\n",
        "|   +  | Addition| 2+2| 4 |\n",
        "|   -  | Subtraction| 6-4| 2 |\n",
        "|   *  | Multiplication| 2*2| 4|\n",
        "|   /  | Division| 2/2| 1|\n",
        "|   %  | Modulus| 5%2| 1|\n",
        "|   $**$  | Exponent| 2 $**$3| 8|"
      ]
    },
    {
      "cell_type": "code",
      "metadata": {
        "id": "KVRZX4Syu1rN",
        "colab_type": "code",
        "colab": {}
      },
      "source": [
        "2+3*6"
      ],
      "execution_count": 0,
      "outputs": []
    },
    {
      "cell_type": "code",
      "metadata": {
        "id": "zP1MqvMsw64r",
        "colab_type": "code",
        "colab": {}
      },
      "source": [
        "(2+3) * 6"
      ],
      "execution_count": 0,
      "outputs": []
    },
    {
      "cell_type": "code",
      "metadata": {
        "id": "hJI4tQKSw9cs",
        "colab_type": "code",
        "colab": {}
      },
      "source": [
        "23%7"
      ],
      "execution_count": 0,
      "outputs": []
    },
    {
      "cell_type": "code",
      "metadata": {
        "id": "Duj94iDNw--U",
        "colab_type": "code",
        "colab": {}
      },
      "source": [
        "2     +                     2"
      ],
      "execution_count": 0,
      "outputs": []
    },
    {
      "cell_type": "markdown",
      "metadata": {
        "id": "P-peijV4xFhc",
        "colab_type": "text"
      },
      "source": [
        "# Data Types\n",
        "The main data types that we will encounter on our machine learning journey are *Integers, Floating-point numbers, Strings and Booleans*.\n",
        "\n",
        "| Data Type | Examples  \n",
        "|------|------|\n",
        "|   Integers  | -2, -1, 0, 1, 2, 3,...|\n",
        "|   Floats  | -1.25, -1.0, --0.5, 0.0, 0.5, 1.0, 1.25, ...|\n",
        "|   Strings  | \t'a', 'aa', 'aaa', 'Hello!', '11 cats',...|\n",
        "|   Boolean  | \tTrue, False|"
      ]
    },
    {
      "cell_type": "code",
      "metadata": {
        "id": "eTg7CAi7xAlW",
        "colab_type": "code",
        "colab": {}
      },
      "source": [
        "\"Hello World\" # strings can use either single quotation or double"
      ],
      "execution_count": 0,
      "outputs": []
    },
    {
      "cell_type": "markdown",
      "metadata": {
        "id": "aWg-A60Tx6zg",
        "colab_type": "text"
      },
      "source": [
        "## String concatenation"
      ]
    },
    {
      "cell_type": "code",
      "metadata": {
        "id": "KBv9a6anx1Eg",
        "colab_type": "code",
        "colab": {}
      },
      "source": [
        "\"AI\" + \"Is\" + \"Cool\" # when + op is used on two string values it joins them together(concatenates)"
      ],
      "execution_count": 0,
      "outputs": []
    },
    {
      "cell_type": "code",
      "metadata": {
        "id": "dMmLxEt5x_iL",
        "colab_type": "code",
        "colab": {}
      },
      "source": [
        "\"Bill C\" + 45 # not the same data type"
      ],
      "execution_count": 0,
      "outputs": []
    },
    {
      "cell_type": "code",
      "metadata": {
        "id": "XIuGZmzZyTUC",
        "colab_type": "code",
        "colab": {}
      },
      "source": [
        "\"Hello\"*5 # concatenates 5 \"Hello\"s together"
      ],
      "execution_count": 0,
      "outputs": []
    },
    {
      "cell_type": "code",
      "metadata": {
        "id": "ilEXcu1Iybsx",
        "colab_type": "code",
        "colab": {}
      },
      "source": [
        "\"Who's\"*\"Joe\" # the * op can only be used with two numberic values (for multiplication)"
      ],
      "execution_count": 0,
      "outputs": []
    },
    {
      "cell_type": "markdown",
      "metadata": {
        "id": "nqyokYZdzLIt",
        "colab_type": "text"
      },
      "source": [
        "# Variables\n",
        "Variables are like the ones you encounter in math. They hold values that can be used later on."
      ]
    },
    {
      "cell_type": "code",
      "metadata": {
        "id": "95D_IyVyygTz",
        "colab_type": "code",
        "colab": {}
      },
      "source": [
        "good = 80\n",
        "bad = 20"
      ],
      "execution_count": 0,
      "outputs": []
    },
    {
      "cell_type": "code",
      "metadata": {
        "id": "SDsOOZo_zlo9",
        "colab_type": "code",
        "colab": {}
      },
      "source": [
        "good + bad"
      ],
      "execution_count": 0,
      "outputs": []
    },
    {
      "cell_type": "code",
      "metadata": {
        "id": "5f3IITp2zmqk",
        "colab_type": "code",
        "colab": {}
      },
      "source": [
        "good + bad + good"
      ],
      "execution_count": 0,
      "outputs": []
    },
    {
      "cell_type": "code",
      "metadata": {
        "id": "PR2XydUZznuc",
        "colab_type": "code",
        "colab": {}
      },
      "source": [
        "good = good + 500\n",
        "good"
      ],
      "execution_count": 0,
      "outputs": []
    },
    {
      "cell_type": "code",
      "metadata": {
        "id": "ZZV-TIL2zqwf",
        "colab_type": "code",
        "colab": {}
      },
      "source": [
        "bad = bad + bad # bad = 20 + 20\n",
        "bad"
      ],
      "execution_count": 0,
      "outputs": []
    },
    {
      "cell_type": "code",
      "metadata": {
        "id": "zxRyVCNoz3uF",
        "colab_type": "code",
        "colab": {}
      },
      "source": [
        "x = \"Hello\"\n",
        "x"
      ],
      "execution_count": 0,
      "outputs": []
    },
    {
      "cell_type": "code",
      "metadata": {
        "id": "QwSbSk59z9Hm",
        "colab_type": "code",
        "colab": {}
      },
      "source": [
        "x = \"Bye\"\n",
        "x"
      ],
      "execution_count": 0,
      "outputs": []
    },
    {
      "cell_type": "markdown",
      "metadata": {
        "id": "rKhxBWa_0EEE",
        "colab_type": "text"
      },
      "source": [
        "Variable names can pretty much be anything you want. However there are some rules though. For example, you can't have spaces, special characters, hyphens, quotations, start with a number, or be a number."
      ]
    },
    {
      "cell_type": "code",
      "metadata": {
        "id": "-FxliB6Ez-PH",
        "colab_type": "code",
        "colab": {}
      },
      "source": [
        "current balance = 1000000000"
      ],
      "execution_count": 0,
      "outputs": []
    },
    {
      "cell_type": "code",
      "metadata": {
        "id": "c8k6pLRe0Vfa",
        "colab_type": "code",
        "colab": {}
      },
      "source": [
        "current-balance = 10000000"
      ],
      "execution_count": 0,
      "outputs": []
    },
    {
      "cell_type": "code",
      "metadata": {
        "id": "x5FIhXDZ0ZjM",
        "colab_type": "code",
        "colab": {}
      },
      "source": [
        "4balance = 100000000"
      ],
      "execution_count": 0,
      "outputs": []
    },
    {
      "cell_type": "code",
      "metadata": {
        "id": "mr9TdGmR0uyv",
        "colab_type": "code",
        "colab": {}
      },
      "source": [
        "42 = 100000"
      ],
      "execution_count": 0,
      "outputs": []
    },
    {
      "cell_type": "code",
      "metadata": {
        "id": "7dU6f8a60wh3",
        "colab_type": "code",
        "colab": {}
      },
      "source": [
        "balance$$$ = 10000000"
      ],
      "execution_count": 0,
      "outputs": []
    },
    {
      "cell_type": "code",
      "metadata": {
        "id": "MJdn-_xO0yhw",
        "colab_type": "code",
        "colab": {}
      },
      "source": [
        "\"balance\" = 1000000"
      ],
      "execution_count": 0,
      "outputs": []
    },
    {
      "cell_type": "markdown",
      "metadata": {
        "id": "LrR55n0Y09fP",
        "colab_type": "text"
      },
      "source": [
        "# Functions\n",
        "\n",
        "\n",
        "*   print()\n",
        "*   len()\n",
        "*   input()\n",
        "\n"
      ]
    },
    {
      "cell_type": "code",
      "metadata": {
        "id": "oSjW6jBB00H4",
        "colab_type": "code",
        "colab": {}
      },
      "source": [
        "name = input(\"What is your name: \")\n",
        "print(\"Welcome to AI Club \"+ name + \",you'll never get to leave.\")"
      ],
      "execution_count": 0,
      "outputs": []
    },
    {
      "cell_type": "code",
      "metadata": {
        "id": "g7dBrqFF1aJ5",
        "colab_type": "code",
        "colab": {}
      },
      "source": [
        "print(name)\n",
        "print(len(name))"
      ],
      "execution_count": 0,
      "outputs": []
    },
    {
      "cell_type": "code",
      "metadata": {
        "id": "vom2ABcf1jB3",
        "colab_type": "code",
        "colab": {}
      },
      "source": [
        "len(\"\")"
      ],
      "execution_count": 0,
      "outputs": []
    },
    {
      "cell_type": "code",
      "metadata": {
        "id": "tidjYCr21nY4",
        "colab_type": "code",
        "colab": {}
      },
      "source": [
        "len(\"testing\")"
      ],
      "execution_count": 0,
      "outputs": []
    },
    {
      "cell_type": "code",
      "metadata": {
        "id": "t7X3iPeT1p5x",
        "colab_type": "code",
        "colab": {}
      },
      "source": [
        "print(\"This is lesson number \" + 1 +\" of 10000 lessons.\") # needs casting"
      ],
      "execution_count": 0,
      "outputs": []
    },
    {
      "cell_type": "markdown",
      "metadata": {
        "id": "JJ8F0mb218qy",
        "colab_type": "text"
      },
      "source": [
        "## Casting\n",
        "\n",
        "- str()\n",
        "- int()\n",
        "- float()"
      ]
    },
    {
      "cell_type": "code",
      "metadata": {
        "id": "nW-8ivYX130I",
        "colab_type": "code",
        "colab": {}
      },
      "source": [
        "x = 29\n",
        "type(x)"
      ],
      "execution_count": 0,
      "outputs": []
    },
    {
      "cell_type": "code",
      "metadata": {
        "id": "yc5obWon2OVs",
        "colab_type": "code",
        "colab": {}
      },
      "source": [
        "x"
      ],
      "execution_count": 0,
      "outputs": []
    },
    {
      "cell_type": "code",
      "metadata": {
        "id": "K9hj-zsJ2FlP",
        "colab_type": "code",
        "colab": {}
      },
      "source": [
        "x = str(29)\n",
        "type(x)"
      ],
      "execution_count": 0,
      "outputs": []
    },
    {
      "cell_type": "code",
      "metadata": {
        "id": "NklRLjR72IOw",
        "colab_type": "code",
        "colab": {}
      },
      "source": [
        "x"
      ],
      "execution_count": 0,
      "outputs": []
    },
    {
      "cell_type": "code",
      "metadata": {
        "id": "UntG_JLf2NAi",
        "colab_type": "code",
        "colab": {}
      },
      "source": [
        "print(\"This is lesson number \" + str(1) +\" of 10000 lessons.\")"
      ],
      "execution_count": 0,
      "outputs": []
    },
    {
      "cell_type": "markdown",
      "metadata": {
        "id": "rRumbGVS2pbQ",
        "colab_type": "text"
      },
      "source": [
        "Here are some casting examples:"
      ]
    },
    {
      "cell_type": "code",
      "metadata": {
        "id": "uxhHn1TJ2SpA",
        "colab_type": "code",
        "colab": {}
      },
      "source": [
        "str(0)"
      ],
      "execution_count": 0,
      "outputs": []
    },
    {
      "cell_type": "code",
      "metadata": {
        "id": "2kseoOhF2U8H",
        "colab_type": "code",
        "colab": {}
      },
      "source": [
        "str(3.1415)"
      ],
      "execution_count": 0,
      "outputs": []
    },
    {
      "cell_type": "code",
      "metadata": {
        "id": "xERhfZOe2XDX",
        "colab_type": "code",
        "colab": {}
      },
      "source": [
        "int(\"42\")"
      ],
      "execution_count": 0,
      "outputs": []
    },
    {
      "cell_type": "code",
      "metadata": {
        "id": "TyMiPcy62cfU",
        "colab_type": "code",
        "colab": {}
      },
      "source": [
        "int(\"-99\")"
      ],
      "execution_count": 0,
      "outputs": []
    },
    {
      "cell_type": "code",
      "metadata": {
        "id": "Ds_8nXro2jTn",
        "colab_type": "code",
        "colab": {}
      },
      "source": [
        "int(1.9999)"
      ],
      "execution_count": 0,
      "outputs": []
    },
    {
      "cell_type": "code",
      "metadata": {
        "id": "Th4Km2Nc2Z1Z",
        "colab_type": "code",
        "colab": {}
      },
      "source": [
        "float(3)"
      ],
      "execution_count": 0,
      "outputs": []
    },
    {
      "cell_type": "code",
      "metadata": {
        "id": "g8G1nIeV2fUT",
        "colab_type": "code",
        "colab": {}
      },
      "source": [
        "float(\"3.14\")"
      ],
      "execution_count": 0,
      "outputs": []
    },
    {
      "cell_type": "code",
      "metadata": {
        "id": "g4atV2LA2Yv4",
        "colab_type": "code",
        "colab": {}
      },
      "source": [
        "int(\"hello\")"
      ],
      "execution_count": 0,
      "outputs": []
    },
    {
      "cell_type": "code",
      "metadata": {
        "id": "Y-Y0VpJ02nh_",
        "colab_type": "code",
        "colab": {}
      },
      "source": [
        "float(\"hello\")"
      ],
      "execution_count": 0,
      "outputs": []
    },
    {
      "cell_type": "markdown",
      "metadata": {
        "id": "OXd4NBC63WYT",
        "colab_type": "text"
      },
      "source": [
        "# Flow Control\n",
        "![alt text](https://automatetheboringstuff.com/images/000105.jpg)"
      ]
    },
    {
      "cell_type": "markdown",
      "metadata": {
        "id": "GqXWkCdC3yQx",
        "colab_type": "text"
      },
      "source": [
        "## Comparison Operators\n",
        "These operations which are listed below will give a True or False value in correspondance with the Yes and No flow chart above.\n",
        "\n",
        "| Operator | Meaning  \n",
        "|------|------|\n",
        "|   ==  | Equal to|\n",
        "|   !=  | Not Equal to|\n",
        "|   <  | Less than|\n",
        "|   >  | Greater than|\n",
        "|   <=  | Less than or equal to|\n",
        "|   >=  | Greater than or equal to|\n",
        "\n"
      ]
    },
    {
      "cell_type": "code",
      "metadata": {
        "id": "sqMck95P3YDO",
        "colab_type": "code",
        "colab": {}
      },
      "source": [
        "42 == 42"
      ],
      "execution_count": 0,
      "outputs": []
    },
    {
      "cell_type": "code",
      "metadata": {
        "id": "ak2zrLvY4US0",
        "colab_type": "code",
        "colab": {}
      },
      "source": [
        "42 == 99"
      ],
      "execution_count": 0,
      "outputs": []
    },
    {
      "cell_type": "code",
      "metadata": {
        "id": "ekoK7kEK4VGS",
        "colab_type": "code",
        "colab": {}
      },
      "source": [
        "2 != 3"
      ],
      "execution_count": 0,
      "outputs": []
    },
    {
      "cell_type": "code",
      "metadata": {
        "id": "7YzpKp144WNr",
        "colab_type": "code",
        "colab": {}
      },
      "source": [
        "2 != 2"
      ],
      "execution_count": 0,
      "outputs": []
    },
    {
      "cell_type": "code",
      "metadata": {
        "id": "tzXN4S_b4XIk",
        "colab_type": "code",
        "colab": {}
      },
      "source": [
        "\"Hello\" == \"Hello\""
      ],
      "execution_count": 0,
      "outputs": []
    },
    {
      "cell_type": "code",
      "metadata": {
        "id": "xML7qBSO4ZV8",
        "colab_type": "code",
        "colab": {}
      },
      "source": [
        "\"Hello\" == \"hello\""
      ],
      "execution_count": 0,
      "outputs": []
    },
    {
      "cell_type": "code",
      "metadata": {
        "id": "OBUKnFB04agd",
        "colab_type": "code",
        "colab": {}
      },
      "source": [
        "42 == 42.0"
      ],
      "execution_count": 0,
      "outputs": []
    },
    {
      "cell_type": "code",
      "metadata": {
        "id": "lJoO1emm4cJd",
        "colab_type": "code",
        "colab": {}
      },
      "source": [
        "42 == '42'"
      ],
      "execution_count": 0,
      "outputs": []
    },
    {
      "cell_type": "code",
      "metadata": {
        "id": "PeFA2H7d4dLm",
        "colab_type": "code",
        "colab": {}
      },
      "source": [
        "True == True"
      ],
      "execution_count": 0,
      "outputs": []
    },
    {
      "cell_type": "code",
      "metadata": {
        "id": "J24CBAvT4fY3",
        "colab_type": "code",
        "colab": {}
      },
      "source": [
        "x = 31\n",
        "y = 60"
      ],
      "execution_count": 0,
      "outputs": []
    },
    {
      "cell_type": "code",
      "metadata": {
        "id": "gb1AB_Uk4nsL",
        "colab_type": "code",
        "colab": {}
      },
      "source": [
        "x > y"
      ],
      "execution_count": 0,
      "outputs": []
    },
    {
      "cell_type": "code",
      "metadata": {
        "id": "hcEzZrUe4ogz",
        "colab_type": "code",
        "colab": {}
      },
      "source": [
        "x <= y"
      ],
      "execution_count": 0,
      "outputs": []
    },
    {
      "cell_type": "markdown",
      "metadata": {
        "id": "1LHprto64zkr",
        "colab_type": "text"
      },
      "source": [
        "## Boolean Operators\n",
        "\n",
        "| Operator | Example  \n",
        "|------|------|\n",
        "|   and  | True and True|\n",
        "|   or  | True or False|\n",
        "|   not  | not True|\n"
      ]
    },
    {
      "cell_type": "code",
      "metadata": {
        "id": "99p_V5ZQ4qmE",
        "colab_type": "code",
        "colab": {}
      },
      "source": [
        "True and True"
      ],
      "execution_count": 0,
      "outputs": []
    },
    {
      "cell_type": "code",
      "metadata": {
        "id": "ZOufzDUI5EiS",
        "colab_type": "code",
        "colab": {}
      },
      "source": [
        "True and False"
      ],
      "execution_count": 0,
      "outputs": []
    },
    {
      "cell_type": "code",
      "metadata": {
        "id": "FDQ7LrNQ5LAU",
        "colab_type": "code",
        "colab": {}
      },
      "source": [
        "x = 81\n",
        "x == 100 or x == 81"
      ],
      "execution_count": 0,
      "outputs": []
    },
    {
      "cell_type": "code",
      "metadata": {
        "id": "nRSt1p6x5Mcl",
        "colab_type": "code",
        "colab": {}
      },
      "source": [
        "x == 100 or x == 82"
      ],
      "execution_count": 0,
      "outputs": []
    },
    {
      "cell_type": "code",
      "metadata": {
        "id": "bt1VkCBI5Wlh",
        "colab_type": "code",
        "colab": {}
      },
      "source": [
        "not not not not True"
      ],
      "execution_count": 0,
      "outputs": []
    },
    {
      "cell_type": "code",
      "metadata": {
        "id": "2tm2K78R5YJa",
        "colab_type": "code",
        "colab": {}
      },
      "source": [
        "(4 < 5) and (5 <6)"
      ],
      "execution_count": 0,
      "outputs": []
    },
    {
      "cell_type": "code",
      "metadata": {
        "id": "kMRZWrcj5eN9",
        "colab_type": "code",
        "colab": {}
      },
      "source": [
        "(4 < 5) and (9 < 6)"
      ],
      "execution_count": 0,
      "outputs": []
    },
    {
      "cell_type": "code",
      "metadata": {
        "id": "gFVXLYKV5flO",
        "colab_type": "code",
        "colab": {}
      },
      "source": [
        "(1 == 2) or (2 == 2)"
      ],
      "execution_count": 0,
      "outputs": []
    },
    {
      "cell_type": "markdown",
      "metadata": {
        "id": "BHFuIKAT6-BP",
        "colab_type": "text"
      },
      "source": [
        "## IF Statements"
      ]
    },
    {
      "cell_type": "code",
      "metadata": {
        "id": "H0C4Tqg05gt-",
        "colab_type": "code",
        "colab": {}
      },
      "source": [
        "name = input(\"Name? \")\n",
        "if name == \"Joe\":\n",
        "  print(\"Who's Joe?\")\n",
        "else:\n",
        "  print(\"Hi \" + name)"
      ],
      "execution_count": 0,
      "outputs": []
    },
    {
      "cell_type": "markdown",
      "metadata": {
        "id": "JdZgu8ak7AL-",
        "colab_type": "text"
      },
      "source": [
        "### ELIF Statement"
      ]
    },
    {
      "cell_type": "code",
      "metadata": {
        "id": "CKrIC1fC5ydG",
        "colab_type": "code",
        "colab": {}
      },
      "source": [
        "day = input(\"What day is it today? \")\n",
        "if day == 1:\n",
        "  print(\"It's a day 1.\")\n",
        "elif day == 2:\n",
        "  print(\"It's a day 2.\")\n",
        "else:\n",
        "  print(\"We live in a quantum space where today is both day 1 and 2.\")"
      ],
      "execution_count": 0,
      "outputs": []
    },
    {
      "cell_type": "markdown",
      "metadata": {
        "id": "2Vld2LVX7C9h",
        "colab_type": "text"
      },
      "source": [
        "Another example"
      ]
    },
    {
      "cell_type": "code",
      "metadata": {
        "id": "L8q7c8mj6oVQ",
        "colab_type": "code",
        "colab": {}
      },
      "source": [
        "name = input(\"What is your name? \")\n",
        "age = int(input(\"What is your age? \"))\n",
        "if name == 'Alice':\n",
        "       print('Hi, Alice.')\n",
        "elif age <= 12:\n",
        "    print('You are not Alice, kiddo.')\n",
        "elif age >= 100:\n",
        "    print('You are not Alice, grannie.')\n",
        "elif age >= 2000:\n",
        "    print('Unlike you, Alice is not an undead, immortal vampire.')"
      ],
      "execution_count": 0,
      "outputs": []
    },
    {
      "cell_type": "markdown",
      "metadata": {
        "id": "rcAxZOG37lnT",
        "colab_type": "text"
      },
      "source": [
        "## While Loops\n",
        "In the while loop, the condition is always checked at the start of each iteration (that is, each time the loop is executed). If the condition is True, then the clause is executed, and afterward, the condition is checked again. The first time the condition is found to be False, the while clause is skipped."
      ]
    },
    {
      "cell_type": "code",
      "metadata": {
        "id": "FyaZrHXJ7Hyj",
        "colab_type": "code",
        "colab": {}
      },
      "source": [
        "name = \"\"\n",
        "while name != \"name\":\n",
        "  print(\"Please type name.\")\n",
        "  name = input()\n",
        "print(\"Good job!\")"
      ],
      "execution_count": 0,
      "outputs": []
    },
    {
      "cell_type": "code",
      "metadata": {
        "id": "TtwpiIwl8GLw",
        "colab_type": "code",
        "colab": {}
      },
      "source": [
        "while True:\n",
        "  print(\"Please type name.\")\n",
        "  name = input()\n",
        "  if name == \"name\":\n",
        "    break\n",
        "print(\"Good job!\")"
      ],
      "execution_count": 0,
      "outputs": []
    },
    {
      "cell_type": "code",
      "metadata": {
        "id": "IPcQZfFf8Sc6",
        "colab_type": "code",
        "colab": {}
      },
      "source": [
        "# The one statement you cannot do!\n",
        "while True:\n",
        "  print(\"Hello World!\") "
      ],
      "execution_count": 0,
      "outputs": []
    },
    {
      "cell_type": "markdown",
      "metadata": {
        "id": "_b7tNETP8qsJ",
        "colab_type": "text"
      },
      "source": [
        "## For Loops\n",
        "The range() function doesn't take the upbound. Meaning if it's range(100) it will only good up until 100-1. This is because in programming, indices start at 0 not 1. So the function will start from 0 all the way up until 99. If you counted starting at 0 up to 99 you'll get 100 elements."
      ]
    },
    {
      "cell_type": "code",
      "metadata": {
        "id": "PXeb17sb8sSd",
        "colab_type": "code",
        "colab": {}
      },
      "source": [
        "for i in range(5):\n",
        "  print(i)"
      ],
      "execution_count": 0,
      "outputs": []
    },
    {
      "cell_type": "code",
      "metadata": {
        "id": "Ux6GrKq-8zxq",
        "colab_type": "code",
        "colab": {}
      },
      "source": [
        "i = 0\n",
        "while i < 5:\n",
        "  print(i)\n",
        "  i = i + 1"
      ],
      "execution_count": 0,
      "outputs": []
    },
    {
      "cell_type": "markdown",
      "metadata": {
        "id": "3zNjuodH9i7T",
        "colab_type": "text"
      },
      "source": [
        "The main difference between a while and for loop is that in a for loop you have a good idea of the number of elements you need to loop through. In a while loop you keep looping until some condition is not met."
      ]
    },
    {
      "cell_type": "code",
      "metadata": {
        "id": "zPJoZvJX9hYB",
        "colab_type": "code",
        "colab": {}
      },
      "source": [
        "for i in range(10, 20):\n",
        "  print(i)"
      ],
      "execution_count": 0,
      "outputs": []
    },
    {
      "cell_type": "code",
      "metadata": {
        "id": "N5BiDIDD92Bx",
        "colab_type": "code",
        "colab": {}
      },
      "source": [
        "for i in range(0, 10, 2):\n",
        "  print(i)"
      ],
      "execution_count": 0,
      "outputs": []
    },
    {
      "cell_type": "code",
      "metadata": {
        "id": "E9mkVKNx951L",
        "colab_type": "code",
        "colab": {}
      },
      "source": [
        ""
      ],
      "execution_count": 0,
      "outputs": []
    }
  ]
}